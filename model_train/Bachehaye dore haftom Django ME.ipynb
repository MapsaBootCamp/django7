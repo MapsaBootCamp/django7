{
 "cells": [
  {
   "cell_type": "code",
   "execution_count": 1,
   "id": "e34f6db1",
   "metadata": {},
   "outputs": [],
   "source": [
    "from django.contrib.auth.models import User\n",
    "from app.models import Person"
   ]
  },
  {
   "cell_type": "code",
   "execution_count": 2,
   "id": "b2b21cd3",
   "metadata": {},
   "outputs": [
    {
     "data": {
      "text/plain": [
       "False"
      ]
     },
     "execution_count": 2,
     "metadata": {},
     "output_type": "execute_result"
    }
   ],
   "source": [
    "user_qs = User.objects.all()\n",
    "user_qs[0].is_superuser"
   ]
  },
  {
   "cell_type": "code",
   "execution_count": null,
   "id": "169b96c9",
   "metadata": {},
   "outputs": [],
   "source": [
    "print(user_qs.query)"
   ]
  },
  {
   "cell_type": "code",
   "execution_count": null,
   "id": "628ff189",
   "metadata": {},
   "outputs": [],
   "source": [
    "for user in User.objects.raw(\"SELECT * FROM auth_user\"):\n",
    "    print(user.username)"
   ]
  },
  {
   "cell_type": "markdown",
   "id": "4dda4b5d",
   "metadata": {},
   "source": [
    "### Queryset API"
   ]
  },
  {
   "cell_type": "code",
   "execution_count": 5,
   "id": "9a65d083",
   "metadata": {},
   "outputs": [
    {
     "data": {
      "text/plain": [
       "<Person: Narges Moossavian>"
      ]
     },
     "execution_count": 5,
     "metadata": {},
     "output_type": "execute_result"
    }
   ],
   "source": [
    "Person.objects.create(first_name=\"Moein\", last_name=\"Karimi\")\n",
    "Person.objects.create(first_name=\"Aysan\", last_name=\"Yahyapoor\")\n",
    "Person.objects.create(first_name=\"Narges\", last_name=\"Moossavian\")"
   ]
  },
  {
   "cell_type": "code",
   "execution_count": 30,
   "id": "f434fa93",
   "metadata": {},
   "outputs": [],
   "source": [
    "from django.db.models import Q\n",
    "# Person.objects.filter(Q(first_name__startswith=\"M\") | Q(last_name__startswith=\"M\"))\n",
    "# for elm in Person.objects.raw('SELECT * FROM person WHERE LENGTH(`last_name`) > 8'):\n",
    "#     print(elm)"
   ]
  },
  {
   "cell_type": "code",
   "execution_count": 28,
   "id": "b20e8114",
   "metadata": {},
   "outputs": [
    {
     "name": "stdout",
     "output_type": "stream",
     "text": [
      "SELECT \"person\".\"id\", \"person\".\"first_name\", \"person\".\"last_name\" FROM \"person\" WHERE (\"person\".\"first_name\" LIKE M% ESCAPE '\\' OR \"person\".\"last_name\" LIKE M% ESCAPE '\\') ORDER BY \"person\".\"first_name\" DESC\n"
     ]
    }
   ],
   "source": [
    "person_qs = Person.objects.filter(first_name__startswith=\"M\") | Person.objects.filter(last_name__startswith=\"M\")\n",
    "print(person_qs.query)"
   ]
  },
  {
   "cell_type": "code",
   "execution_count": 44,
   "id": "047a827f",
   "metadata": {},
   "outputs": [
    {
     "data": {
      "text/plain": [
       "<QuerySet [{'first_name': 'Moein', 'last_name': 'Karimi'}]>"
      ]
     },
     "execution_count": 44,
     "metadata": {},
     "output_type": "execute_result"
    }
   ],
   "source": [
    "Person.objects.all().values(\"first_name\", \"last_name\").filter(first_name__startswith=\"M\")\n",
    "# qs = Person.objects.all().filter(first_name__startswith=\"M\")\n",
    "# qs = qs.filter(id__gt=2)\n",
    "# print(qs.query)"
   ]
  },
  {
   "cell_type": "code",
   "execution_count": 50,
   "id": "6f8d2fd7",
   "metadata": {},
   "outputs": [
    {
     "data": {
      "text/plain": [
       "<Person: Moein Karimi>"
      ]
     },
     "execution_count": 50,
     "metadata": {},
     "output_type": "execute_result"
    }
   ],
   "source": [
    "Person.objects.filter(first_name__startswith=\"M\").get(first_name=\"Moein\")"
   ]
  },
  {
   "cell_type": "code",
   "execution_count": 51,
   "id": "646a0ece",
   "metadata": {},
   "outputs": [
    {
     "data": {
      "text/plain": [
       "[<Person: Mohammad Naghavi>, <Person: Shaghayegh ValadKhani>]"
      ]
     },
     "execution_count": 51,
     "metadata": {},
     "output_type": "execute_result"
    }
   ],
   "source": [
    "Person.objects.bulk_create([Person(first_name=\"Mohammad\", last_name=\"Naghavi\"), Person(first_name=\"Shaghayegh\", last_name=\"ValadKhani\")])"
   ]
  },
  {
   "cell_type": "code",
   "execution_count": 52,
   "id": "b5fb9397",
   "metadata": {},
   "outputs": [
    {
     "data": {
      "text/plain": [
       "<QuerySet [<Person: Shaghayegh ValadKhani>, <Person: Narges Moossavian>, <Person: Mohammad Naghavi>, <Person: Moein Karimi>, <Person: Aysan Yahyapoor>, <Person: Ashkan Divband>]>"
      ]
     },
     "execution_count": 52,
     "metadata": {},
     "output_type": "execute_result"
    }
   ],
   "source": [
    "Person.objects.all()"
   ]
  },
  {
   "cell_type": "code",
   "execution_count": null,
   "id": "b44d493a",
   "metadata": {},
   "outputs": [],
   "source": []
  }
 ],
 "metadata": {
  "kernelspec": {
   "display_name": "Django Shell-Plus",
   "language": "python",
   "name": "django_extensions"
  },
  "language_info": {
   "codemirror_mode": {
    "name": "ipython",
    "version": 3
   },
   "file_extension": ".py",
   "mimetype": "text/x-python",
   "name": "python",
   "nbconvert_exporter": "python",
   "pygments_lexer": "ipython3",
   "version": "3.8.10"
  }
 },
 "nbformat": 4,
 "nbformat_minor": 5
}
