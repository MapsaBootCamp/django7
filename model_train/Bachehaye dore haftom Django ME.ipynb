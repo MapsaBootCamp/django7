{
 "cells": [
  {
   "cell_type": "code",
   "execution_count": 1,
   "id": "e34f6db1",
   "metadata": {},
   "outputs": [],
   "source": [
    "from django.contrib.auth.models import User\n",
    "from app.models import Person, Product, Category, CartItem, Cart"
   ]
  },
  {
   "cell_type": "code",
   "execution_count": 2,
   "id": "b2b21cd3",
   "metadata": {},
   "outputs": [
    {
     "data": {
      "text/plain": [
       "False"
      ]
     },
     "execution_count": 2,
     "metadata": {},
     "output_type": "execute_result"
    }
   ],
   "source": [
    "user_qs = User.objects.all()\n",
    "user_qs[0].is_superuser"
   ]
  },
  {
   "cell_type": "code",
   "execution_count": null,
   "id": "169b96c9",
   "metadata": {},
   "outputs": [],
   "source": [
    "print(user_qs.query)"
   ]
  },
  {
   "cell_type": "code",
   "execution_count": null,
   "id": "628ff189",
   "metadata": {},
   "outputs": [],
   "source": [
    "for user in User.objects.raw(\"SELECT * FROM auth_user\"):\n",
    "    print(user.username)"
   ]
  },
  {
   "cell_type": "markdown",
   "id": "4dda4b5d",
   "metadata": {},
   "source": [
    "### Queryset API"
   ]
  },
  {
   "cell_type": "code",
   "execution_count": 5,
   "id": "9a65d083",
   "metadata": {},
   "outputs": [
    {
     "data": {
      "text/plain": [
       "<Person: Narges Moossavian>"
      ]
     },
     "execution_count": 5,
     "metadata": {},
     "output_type": "execute_result"
    }
   ],
   "source": [
    "Person.objects.create(first_name=\"Moein\", last_name=\"Karimi\")\n",
    "Person.objects.create(first_name=\"Aysan\", last_name=\"Yahyapoor\")\n",
    "Person.objects.create(first_name=\"Narges\", last_name=\"Moossavian\")"
   ]
  },
  {
   "cell_type": "code",
   "execution_count": 30,
   "id": "f434fa93",
   "metadata": {},
   "outputs": [],
   "source": [
    "from django.db.models import Q\n",
    "# Person.objects.filter(Q(first_name__startswith=\"M\") | Q(last_name__startswith=\"M\"))\n",
    "# for elm in Person.objects.raw('SELECT * FROM person WHERE LENGTH(`last_name`) > 8'):\n",
    "#     print(elm)"
   ]
  },
  {
   "cell_type": "code",
   "execution_count": 28,
   "id": "b20e8114",
   "metadata": {},
   "outputs": [
    {
     "name": "stdout",
     "output_type": "stream",
     "text": [
      "SELECT \"person\".\"id\", \"person\".\"first_name\", \"person\".\"last_name\" FROM \"person\" WHERE (\"person\".\"first_name\" LIKE M% ESCAPE '\\' OR \"person\".\"last_name\" LIKE M% ESCAPE '\\') ORDER BY \"person\".\"first_name\" DESC\n"
     ]
    }
   ],
   "source": [
    "person_qs = Person.objects.filter(first_name__startswith=\"M\") | Person.objects.filter(last_name__startswith=\"M\")\n",
    "print(person_qs.query)"
   ]
  },
  {
   "cell_type": "code",
   "execution_count": 44,
   "id": "047a827f",
   "metadata": {},
   "outputs": [
    {
     "data": {
      "text/plain": [
       "<QuerySet [{'first_name': 'Moein', 'last_name': 'Karimi'}]>"
      ]
     },
     "execution_count": 44,
     "metadata": {},
     "output_type": "execute_result"
    }
   ],
   "source": [
    "Person.objects.all().values(\"first_name\", \"last_name\").filter(first_name__startswith=\"M\")\n",
    "# qs = Person.objects.all().filter(first_name__startswith=\"M\")\n",
    "# qs = qs.filter(id__gt=2)\n",
    "# print(qs.query)"
   ]
  },
  {
   "cell_type": "code",
   "execution_count": 50,
   "id": "6f8d2fd7",
   "metadata": {},
   "outputs": [
    {
     "data": {
      "text/plain": [
       "<Person: Moein Karimi>"
      ]
     },
     "execution_count": 50,
     "metadata": {},
     "output_type": "execute_result"
    }
   ],
   "source": [
    "Person.objects.filter(first_name__startswith=\"M\").get(first_name=\"Moein\")"
   ]
  },
  {
   "cell_type": "code",
   "execution_count": 51,
   "id": "646a0ece",
   "metadata": {},
   "outputs": [
    {
     "data": {
      "text/plain": [
       "[<Person: Mohammad Naghavi>, <Person: Shaghayegh ValadKhani>]"
      ]
     },
     "execution_count": 51,
     "metadata": {},
     "output_type": "execute_result"
    }
   ],
   "source": [
    "Person.objects.bulk_create([Person(first_name=\"Mohammad\", last_name=\"Naghavi\"), Person(first_name=\"Shaghayegh\", last_name=\"ValadKhani\")])"
   ]
  },
  {
   "cell_type": "code",
   "execution_count": 2,
   "id": "17cd1575",
   "metadata": {},
   "outputs": [
    {
     "data": {
      "text/plain": [
       "<QuerySet [<Category: Lavazem Barghi>, <Category: Ashpazkhaneh>, <Category: Pooshak>, <Category: Mavad Ghazaei>]>"
      ]
     },
     "execution_count": 2,
     "metadata": {},
     "output_type": "execute_result"
    }
   ],
   "source": [
    "Category.objects.all()"
   ]
  },
  {
   "cell_type": "code",
   "execution_count": 2,
   "id": "b5fb9397",
   "metadata": {},
   "outputs": [
    {
     "data": {
      "text/plain": [
       "<QuerySet [<Person: Shaghayegh ValadKhani>, <Person: Narges Moossavian>, <Person: Mohammad Naghavi>, <Person: Moein Karimi>, <Person: Aysan Yahyapoor>, <Person: Ashkan Divband>]>"
      ]
     },
     "execution_count": 2,
     "metadata": {},
     "output_type": "execute_result"
    }
   ],
   "source": [
    "Person.objects.all()"
   ]
  },
  {
   "cell_type": "code",
   "execution_count": 4,
   "id": "0ccc4417",
   "metadata": {},
   "outputs": [
    {
     "data": {
      "text/plain": [
       "<Category: Mavad Ghazaei>"
      ]
     },
     "execution_count": 4,
     "metadata": {},
     "output_type": "execute_result"
    }
   ],
   "source": [
    "cat_1 = Category.objects.get(title=\"Mavad Ghazaei\")\n",
    "cat_1"
   ]
  },
  {
   "cell_type": "code",
   "execution_count": 5,
   "id": "b44d493a",
   "metadata": {},
   "outputs": [
    {
     "data": {
      "text/plain": [
       "<Product: Shalgham>"
      ]
     },
     "execution_count": 5,
     "metadata": {},
     "output_type": "execute_result"
    }
   ],
   "source": [
    "Product.objects.create(name=\"Shalgham\", category=cat_1, exist_qty=10)"
   ]
  },
  {
   "cell_type": "code",
   "execution_count": 6,
   "id": "0d1b235a",
   "metadata": {},
   "outputs": [
    {
     "data": {
      "text/plain": [
       "<QuerySet [<Product: Shalgham>]>"
      ]
     },
     "execution_count": 6,
     "metadata": {},
     "output_type": "execute_result"
    }
   ],
   "source": [
    "Product.objects.all()"
   ]
  },
  {
   "cell_type": "code",
   "execution_count": 10,
   "id": "af898289",
   "metadata": {},
   "outputs": [],
   "source": [
    "product = Product(name=\"Mast\", category=cat_1, exist_qty=10)"
   ]
  },
  {
   "cell_type": "code",
   "execution_count": 15,
   "id": "397b06c0",
   "metadata": {},
   "outputs": [],
   "source": [
    "product.name = \"Henduneh\"\n",
    "product.save()"
   ]
  },
  {
   "cell_type": "code",
   "execution_count": 21,
   "id": "167b7f7c",
   "metadata": {},
   "outputs": [
    {
     "data": {
      "text/plain": [
       "<QuerySet [<Product: Khiar>, <Product: >, <Product: Henduneh>]>"
      ]
     },
     "execution_count": 21,
     "metadata": {},
     "output_type": "execute_result"
    }
   ],
   "source": [
    "Product.objects.all()"
   ]
  },
  {
   "cell_type": "code",
   "execution_count": 17,
   "id": "988f64ab",
   "metadata": {},
   "outputs": [],
   "source": [
    "prod_shalgham = Product.objects.get(name=\"Shalgham\")"
   ]
  },
  {
   "cell_type": "code",
   "execution_count": 29,
   "id": "4bd13b8a",
   "metadata": {},
   "outputs": [
    {
     "data": {
      "text/plain": [
       "<Product: Shalgham>"
      ]
     },
     "execution_count": 29,
     "metadata": {},
     "output_type": "execute_result"
    }
   ],
   "source": [
    "Product.objects.create(name=\"Shalgham\", category=cat_1, exist_qty=10)"
   ]
  },
  {
   "cell_type": "code",
   "execution_count": 18,
   "id": "a867e609",
   "metadata": {},
   "outputs": [],
   "source": [
    "prod_shalgham.name = \"Khiar\""
   ]
  },
  {
   "cell_type": "code",
   "execution_count": 20,
   "id": "147d2d70",
   "metadata": {},
   "outputs": [],
   "source": [
    "prod_shalgham.save()"
   ]
  },
  {
   "cell_type": "code",
   "execution_count": 30,
   "id": "5f27d771",
   "metadata": {},
   "outputs": [],
   "source": [
    "user = Person.objects.get(first_name=\"Shaghayegh\")\n",
    "product = Product.objects.get(name=\"Shalgham\")"
   ]
  },
  {
   "cell_type": "code",
   "execution_count": 31,
   "id": "87fbdd86",
   "metadata": {},
   "outputs": [
    {
     "data": {
      "text/plain": [
       "<CartItem: Shaghayegh Shalgham>"
      ]
     },
     "execution_count": 31,
     "metadata": {},
     "output_type": "execute_result"
    }
   ],
   "source": [
    "CartItem.objects.create(user=user, product=product, qty=2)"
   ]
  },
  {
   "cell_type": "code",
   "execution_count": 27,
   "id": "ede319d5",
   "metadata": {},
   "outputs": [
    {
     "data": {
      "text/plain": [
       "<QuerySet [<CartItem: Moein Khiar>]>"
      ]
     },
     "execution_count": 27,
     "metadata": {},
     "output_type": "execute_result"
    }
   ],
   "source": [
    "CartItem.objects.all()"
   ]
  },
  {
   "cell_type": "code",
   "execution_count": 34,
   "id": "4a2e4477",
   "metadata": {},
   "outputs": [
    {
     "data": {
      "text/plain": [
       "<QuerySet [<CartItem: Moein Khiar>, <CartItem: Shaghayegh Shalgham>]>"
      ]
     },
     "execution_count": 34,
     "metadata": {},
     "output_type": "execute_result"
    }
   ],
   "source": [
    "CartItem.objects.filter(product__name__contains=\"a\")"
   ]
  },
  {
   "cell_type": "code",
   "execution_count": 37,
   "id": "c790500e",
   "metadata": {},
   "outputs": [
    {
     "data": {
      "text/plain": [
       "<QuerySet []>"
      ]
     },
     "execution_count": 37,
     "metadata": {},
     "output_type": "execute_result"
    }
   ],
   "source": [
    "CartItem.objects.filter(product__category__title=\"Lavazem Barghi\")"
   ]
  },
  {
   "cell_type": "code",
   "execution_count": 39,
   "id": "b9cef32c",
   "metadata": {},
   "outputs": [
    {
     "data": {
      "text/plain": [
       "<Category: Mavad Ghazaei>"
      ]
     },
     "execution_count": 39,
     "metadata": {},
     "output_type": "execute_result"
    }
   ],
   "source": [
    "cat_1 = Category.objects.get(title=\"Mavad Ghazaei\")"
   ]
  },
  {
   "cell_type": "code",
   "execution_count": 7,
   "id": "a45c59c9",
   "metadata": {},
   "outputs": [],
   "source": [
    "import json\n",
    "\n",
    "prod = Product.objects.get(name=\"Khiar\")\n",
    "prod.exist_qty = 17\n",
    "prod.moshakhast = {\"rang\": \"baghaliaei\", \"andazeh\": \"motavaset\"}\n",
    "prod.save()"
   ]
  },
  {
   "cell_type": "code",
   "execution_count": 15,
   "id": "7f95780f",
   "metadata": {},
   "outputs": [
    {
     "name": "stdout",
     "output_type": "stream",
     "text": [
      "red\n",
      "blue\n"
     ]
    }
   ],
   "source": [
    "for elm in Product.objects.filter(name=\"گوشی سامسونگ\"):\n",
    "    print(elm.moshakhast[\"rang\"])"
   ]
  },
  {
   "cell_type": "markdown",
   "id": "626304c4",
   "metadata": {},
   "source": [
    "### Many to Many"
   ]
  },
  {
   "cell_type": "code",
   "execution_count": 4,
   "id": "e3540392",
   "metadata": {},
   "outputs": [
    {
     "data": {
      "text/plain": [
       "2"
      ]
     },
     "execution_count": 4,
     "metadata": {},
     "output_type": "execute_result"
    }
   ],
   "source": [
    "user = Person.objects.get(first_name=\"Moein\")\n",
    "user.id"
   ]
  },
  {
   "cell_type": "code",
   "execution_count": 14,
   "id": "477a2362",
   "metadata": {},
   "outputs": [
    {
     "data": {
      "text/plain": [
       "<QuerySet [<Product: Khiar>, <Product: Shalgham>]>"
      ]
     },
     "execution_count": 14,
     "metadata": {},
     "output_type": "execute_result"
    }
   ],
   "source": [
    "cart = Cart.objects.get(user_id=2)\n",
    "cart.product.filter(name__contains=\"a\")"
   ]
  },
  {
   "cell_type": "code",
   "execution_count": 15,
   "id": "71d63579",
   "metadata": {},
   "outputs": [
    {
     "data": {
      "text/plain": [
       "<Person: Mohammad Naghavi>"
      ]
     },
     "execution_count": 15,
     "metadata": {},
     "output_type": "execute_result"
    }
   ],
   "source": [
    "user2 = Person.objects.get(first_name=\"Mohammad\")\n",
    "user2"
   ]
  },
  {
   "cell_type": "code",
   "execution_count": 17,
   "id": "bc7c76ca",
   "metadata": {},
   "outputs": [
    {
     "data": {
      "text/plain": [
       "<Product: Khiar>"
      ]
     },
     "execution_count": 17,
     "metadata": {},
     "output_type": "execute_result"
    }
   ],
   "source": [
    "product1 = Product.objects.get(name=\"Khiar\")\n",
    "product1"
   ]
  },
  {
   "cell_type": "code",
   "execution_count": 21,
   "id": "938a546f",
   "metadata": {},
   "outputs": [
    {
     "data": {
      "text/plain": [
       "<Cart: Mohammad>"
      ]
     },
     "execution_count": 21,
     "metadata": {},
     "output_type": "execute_result"
    }
   ],
   "source": [
    "cart1 = Cart.objects.get(user=user2)\n",
    "cart1"
   ]
  },
  {
   "cell_type": "code",
   "execution_count": 28,
   "id": "4d2072fe",
   "metadata": {},
   "outputs": [
    {
     "data": {
      "text/plain": [
       "<Product: Henduneh>"
      ]
     },
     "execution_count": 28,
     "metadata": {},
     "output_type": "execute_result"
    }
   ],
   "source": [
    "product2 = Product.objects.get(name=\"Henduneh\")\n",
    "product2"
   ]
  },
  {
   "cell_type": "code",
   "execution_count": 29,
   "id": "e2b6301e",
   "metadata": {},
   "outputs": [],
   "source": [
    "# add by object in MtM\n",
    "cart1.product.add(product2)"
   ]
  },
  {
   "cell_type": "code",
   "execution_count": 32,
   "id": "beb726af",
   "metadata": {},
   "outputs": [],
   "source": [
    "# add by id in MtM\n",
    "cart1.product.add(5)"
   ]
  },
  {
   "cell_type": "code",
   "execution_count": null,
   "id": "41dc3d67",
   "metadata": {},
   "outputs": [],
   "source": []
  }
 ],
 "metadata": {
  "kernelspec": {
   "display_name": "Django Shell-Plus",
   "language": "python",
   "name": "django_extensions"
  },
  "language_info": {
   "codemirror_mode": {
    "name": "ipython",
    "version": 3
   },
   "file_extension": ".py",
   "mimetype": "text/x-python",
   "name": "python",
   "nbconvert_exporter": "python",
   "pygments_lexer": "ipython3",
   "version": "3.8.10"
  }
 },
 "nbformat": 4,
 "nbformat_minor": 5
}
